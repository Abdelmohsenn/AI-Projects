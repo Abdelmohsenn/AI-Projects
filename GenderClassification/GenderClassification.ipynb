{
 "cells": [
  {
   "cell_type": "markdown",
   "metadata": {},
   "source": [
    "# *Libraries*"
   ]
  },
  {
   "cell_type": "code",
   "execution_count": 155,
   "metadata": {},
   "outputs": [],
   "source": [
    "import sys\n",
    "import keras\n",
    "import pandas as pd\n",
    "import tensorflow as tf\n",
    "import matplotlib.pyplot as plt\n",
    "from keras.optimizers import Adam, AdamW, SGD\n",
    "from keras.regularizers import Regularizer, l1, l2\n",
    "from tensorflow.keras.layers import TextVectorization, Dense, Conv2D, Flatten, Dropout, Bidirectional, LSTM\n",
    "from tensorflow.keras.models import load_model, save_model, Sequential\n",
    "from sklearn.preprocessing import LabelEncoder, OneHotEncoder\n",
    "from tensorflow.keras.preprocessing.text import Tokenizer\n",
    "from tensorflow.keras.preprocessing.sequence import pad_sequences\n",
    "from sklearn.model_selection import train_test_split\n",
    "import numpy"
   ]
  },
  {
   "cell_type": "code",
   "execution_count": 132,
   "metadata": {},
   "outputs": [],
   "source": [
    "genderCsv = pd.read_csv('Genders.csv', usecols=[0,1])\n",
    "genderCsv = genderCsv.sample(frac=0.5)\n",
    "tokenizer = Tokenizer(char_level=True)"
   ]
  },
  {
   "cell_type": "code",
   "execution_count": 133,
   "metadata": {},
   "outputs": [
    {
     "data": {
      "text/html": [
       "<div>\n",
       "<style scoped>\n",
       "    .dataframe tbody tr th:only-of-type {\n",
       "        vertical-align: middle;\n",
       "    }\n",
       "\n",
       "    .dataframe tbody tr th {\n",
       "        vertical-align: top;\n",
       "    }\n",
       "\n",
       "    .dataframe thead th {\n",
       "        text-align: right;\n",
       "    }\n",
       "</style>\n",
       "<table border=\"1\" class=\"dataframe\">\n",
       "  <thead>\n",
       "    <tr style=\"text-align: right;\">\n",
       "      <th></th>\n",
       "      <th>Name</th>\n",
       "      <th>Gender</th>\n",
       "    </tr>\n",
       "  </thead>\n",
       "  <tbody>\n",
       "    <tr>\n",
       "      <th>58451</th>\n",
       "      <td>Muzzammil</td>\n",
       "      <td>M</td>\n",
       "    </tr>\n",
       "    <tr>\n",
       "      <th>7312</th>\n",
       "      <td>Kalani</td>\n",
       "      <td>M</td>\n",
       "    </tr>\n",
       "    <tr>\n",
       "      <th>71174</th>\n",
       "      <td>Seslie</td>\n",
       "      <td>F</td>\n",
       "    </tr>\n",
       "    <tr>\n",
       "      <th>29606</th>\n",
       "      <td>Forbes</td>\n",
       "      <td>M</td>\n",
       "    </tr>\n",
       "    <tr>\n",
       "      <th>48891</th>\n",
       "      <td>Keonta</td>\n",
       "      <td>F</td>\n",
       "    </tr>\n",
       "    <tr>\n",
       "      <th>...</th>\n",
       "      <td>...</td>\n",
       "      <td>...</td>\n",
       "    </tr>\n",
       "    <tr>\n",
       "      <th>38070</th>\n",
       "      <td>Leaf</td>\n",
       "      <td>M</td>\n",
       "    </tr>\n",
       "    <tr>\n",
       "      <th>120939</th>\n",
       "      <td>Gaybreil</td>\n",
       "      <td>F</td>\n",
       "    </tr>\n",
       "    <tr>\n",
       "      <th>101421</th>\n",
       "      <td>Makkiyah</td>\n",
       "      <td>F</td>\n",
       "    </tr>\n",
       "    <tr>\n",
       "      <th>104010</th>\n",
       "      <td>Tanjanae</td>\n",
       "      <td>F</td>\n",
       "    </tr>\n",
       "    <tr>\n",
       "      <th>24500</th>\n",
       "      <td>Joshau</td>\n",
       "      <td>M</td>\n",
       "    </tr>\n",
       "  </tbody>\n",
       "</table>\n",
       "<p>73634 rows × 2 columns</p>\n",
       "</div>"
      ],
      "text/plain": [
       "             Name Gender\n",
       "58451   Muzzammil      M\n",
       "7312       Kalani      M\n",
       "71174      Seslie      F\n",
       "29606      Forbes      M\n",
       "48891      Keonta      F\n",
       "...           ...    ...\n",
       "38070        Leaf      M\n",
       "120939   Gaybreil      F\n",
       "101421   Makkiyah      F\n",
       "104010   Tanjanae      F\n",
       "24500      Joshau      M\n",
       "\n",
       "[73634 rows x 2 columns]"
      ]
     },
     "execution_count": 133,
     "metadata": {},
     "output_type": "execute_result"
    }
   ],
   "source": [
    "genderCsv"
   ]
  },
  {
   "cell_type": "code",
   "execution_count": 134,
   "metadata": {},
   "outputs": [],
   "source": [
    "names = genderCsv['Name']\n",
    "names = names.astype(str).values\n",
    "classes = genderCsv['Gender']"
   ]
  },
  {
   "cell_type": "code",
   "execution_count": 135,
   "metadata": {},
   "outputs": [],
   "source": [
    "tokenizer.fit_on_texts(names)\n",
    "sequences = tokenizer.texts_to_sequences(names)"
   ]
  },
  {
   "cell_type": "code",
   "execution_count": 136,
   "metadata": {},
   "outputs": [],
   "source": [
    "max_len = 20 \n",
    "namesTokenized = pad_sequences(sequences, maxlen=max_len, padding='post')"
   ]
  },
  {
   "cell_type": "code",
   "execution_count": 137,
   "metadata": {},
   "outputs": [],
   "source": [
    "classesEncoder = LabelEncoder()\n",
    "classEncoded = classesEncoder.fit_transform(classes)"
   ]
  },
  {
   "cell_type": "code",
   "execution_count": 138,
   "metadata": {},
   "outputs": [
    {
     "data": {
      "text/plain": [
       "array([[12, 15, 21, ...,  0,  0,  0],\n",
       "       [14,  1,  6, ...,  0,  0,  0],\n",
       "       [ 7,  2,  7, ...,  0,  0,  0],\n",
       "       ...,\n",
       "       [12,  1, 14, ...,  0,  0,  0],\n",
       "       [10,  1,  3, ...,  0,  0,  0],\n",
       "       [17,  9,  7, ...,  0,  0,  0]], dtype=int32)"
      ]
     },
     "execution_count": 138,
     "metadata": {},
     "output_type": "execute_result"
    }
   ],
   "source": [
    "namesTokenized"
   ]
  },
  {
   "cell_type": "code",
   "execution_count": 139,
   "metadata": {},
   "outputs": [
    {
     "name": "stdout",
     "output_type": "stream",
     "text": [
      "Names after encoding: [[12 15 21 ...  0  0  0]\n",
      " [14  1  6 ...  0  0  0]\n",
      " [ 7  2  7 ...  0  0  0]\n",
      " ...\n",
      " [12  1 14 ...  0  0  0]\n",
      " [10  1  3 ...  0  0  0]\n",
      " [17  9  7 ...  0  0  0]]\n",
      "Classes after encoding: [1 1 0 ... 0 0 1]\n"
     ]
    }
   ],
   "source": [
    "print('Names after encoding:',namesTokenized)\n",
    "print('Classes after encoding:',classEncoded)"
   ]
  },
  {
   "cell_type": "code",
   "execution_count": 140,
   "metadata": {},
   "outputs": [
    {
     "name": "stdout",
     "output_type": "stream",
     "text": [
      "NamesShapae after encoding: (73634, 20)\n",
      "Classes shape after encoding: (73634,)\n"
     ]
    }
   ],
   "source": [
    "print('NamesShapae after encoding:',namesTokenized.shape)\n",
    "print('Classes shape after encoding:',classEncoded.shape)"
   ]
  },
  {
   "cell_type": "code",
   "execution_count": 142,
   "metadata": {},
   "outputs": [],
   "source": [
    "xtrain, xtest, ytrain, ytest = train_test_split(namesTokenized, classEncoded, test_size=0.2, random_state=42, stratify=classEncoded)"
   ]
  },
  {
   "cell_type": "code",
   "execution_count": 143,
   "metadata": {},
   "outputs": [],
   "source": [
    "# xtrain = xtrain.toarray()\n",
    "# xtest = xtest.toarray()"
   ]
  },
  {
   "cell_type": "code",
   "execution_count": 201,
   "metadata": {},
   "outputs": [],
   "source": [
    "model = Sequential([\n",
    "    Flatten(),\n",
    "    \n",
    "    Dense(256,activation='relu') ,\n",
    "    Dropout(0.1),\n",
    "    \n",
    "    Dense(128,activation='relu') ,\n",
    "    Dropout(0.2),\n",
    "\n",
    "    Dense(64,activation='relu') ,\n",
    "    Dropout(0.1),\n",
    "\n",
    "    Dense(32,activation='relu') ,\n",
    "    Dense(1, activation='sigmoid')\n",
    "])\n"
   ]
  },
  {
   "cell_type": "code",
   "execution_count": 202,
   "metadata": {},
   "outputs": [],
   "source": [
    "model.compile(optimizer=Adam(),loss='binary_crossentropy',metrics=['accuracy']  )"
   ]
  },
  {
   "cell_type": "code",
   "execution_count": 203,
   "metadata": {},
   "outputs": [
    {
     "name": "stdout",
     "output_type": "stream",
     "text": [
      "Epoch 1/20\n",
      "\u001b[1m1841/1841\u001b[0m \u001b[32m━━━━━━━━━━━━━━━━━━━━\u001b[0m\u001b[37m\u001b[0m \u001b[1m7s\u001b[0m 3ms/step - accuracy: 0.6020 - loss: 0.6775 - val_accuracy: 0.6271 - val_loss: 0.6549\n",
      "Epoch 2/20\n",
      "\u001b[1m1841/1841\u001b[0m \u001b[32m━━━━━━━━━━━━━━━━━━━━\u001b[0m\u001b[37m\u001b[0m \u001b[1m5s\u001b[0m 3ms/step - accuracy: 0.6228 - loss: 0.6507 - val_accuracy: 0.6447 - val_loss: 0.6164\n",
      "Epoch 3/20\n",
      "\u001b[1m1841/1841\u001b[0m \u001b[32m━━━━━━━━━━━━━━━━━━━━\u001b[0m\u001b[37m\u001b[0m \u001b[1m5s\u001b[0m 2ms/step - accuracy: 0.6569 - loss: 0.6105 - val_accuracy: 0.6740 - val_loss: 0.5825\n",
      "Epoch 4/20\n",
      "\u001b[1m1841/1841\u001b[0m \u001b[32m━━━━━━━━━━━━━━━━━━━━\u001b[0m\u001b[37m\u001b[0m \u001b[1m5s\u001b[0m 2ms/step - accuracy: 0.6744 - loss: 0.5826 - val_accuracy: 0.6832 - val_loss: 0.5667\n",
      "Epoch 5/20\n",
      "\u001b[1m1841/1841\u001b[0m \u001b[32m━━━━━━━━━━━━━━━━━━━━\u001b[0m\u001b[37m\u001b[0m \u001b[1m5s\u001b[0m 3ms/step - accuracy: 0.6857 - loss: 0.5714 - val_accuracy: 0.6912 - val_loss: 0.5634\n",
      "Epoch 6/20\n",
      "\u001b[1m1841/1841\u001b[0m \u001b[32m━━━━━━━━━━━━━━━━━━━━\u001b[0m\u001b[37m\u001b[0m \u001b[1m5s\u001b[0m 2ms/step - accuracy: 0.6913 - loss: 0.5630 - val_accuracy: 0.6996 - val_loss: 0.5541\n",
      "Epoch 7/20\n",
      "\u001b[1m1841/1841\u001b[0m \u001b[32m━━━━━━━━━━━━━━━━━━━━\u001b[0m\u001b[37m\u001b[0m \u001b[1m5s\u001b[0m 3ms/step - accuracy: 0.6961 - loss: 0.5600 - val_accuracy: 0.7001 - val_loss: 0.5508\n",
      "Epoch 8/20\n",
      "\u001b[1m1841/1841\u001b[0m \u001b[32m━━━━━━━━━━━━━━━━━━━━\u001b[0m\u001b[37m\u001b[0m \u001b[1m5s\u001b[0m 2ms/step - accuracy: 0.6988 - loss: 0.5539 - val_accuracy: 0.7058 - val_loss: 0.5485\n",
      "Epoch 9/20\n",
      "\u001b[1m1841/1841\u001b[0m \u001b[32m━━━━━━━━━━━━━━━━━━━━\u001b[0m\u001b[37m\u001b[0m \u001b[1m5s\u001b[0m 3ms/step - accuracy: 0.6980 - loss: 0.5528 - val_accuracy: 0.7005 - val_loss: 0.5616\n",
      "Epoch 10/20\n",
      "\u001b[1m1841/1841\u001b[0m \u001b[32m━━━━━━━━━━━━━━━━━━━━\u001b[0m\u001b[37m\u001b[0m \u001b[1m5s\u001b[0m 3ms/step - accuracy: 0.6984 - loss: 0.5527 - val_accuracy: 0.7138 - val_loss: 0.5415\n",
      "Epoch 11/20\n",
      "\u001b[1m1841/1841\u001b[0m \u001b[32m━━━━━━━━━━━━━━━━━━━━\u001b[0m\u001b[37m\u001b[0m \u001b[1m5s\u001b[0m 3ms/step - accuracy: 0.7088 - loss: 0.5442 - val_accuracy: 0.7138 - val_loss: 0.5396\n",
      "Epoch 12/20\n",
      "\u001b[1m1841/1841\u001b[0m \u001b[32m━━━━━━━━━━━━━━━━━━━━\u001b[0m\u001b[37m\u001b[0m \u001b[1m5s\u001b[0m 3ms/step - accuracy: 0.7076 - loss: 0.5442 - val_accuracy: 0.7148 - val_loss: 0.5396\n",
      "Epoch 13/20\n",
      "\u001b[1m1841/1841\u001b[0m \u001b[32m━━━━━━━━━━━━━━━━━━━━\u001b[0m\u001b[37m\u001b[0m \u001b[1m5s\u001b[0m 3ms/step - accuracy: 0.7094 - loss: 0.5436 - val_accuracy: 0.7209 - val_loss: 0.5327\n",
      "Epoch 14/20\n",
      "\u001b[1m1841/1841\u001b[0m \u001b[32m━━━━━━━━━━━━━━━━━━━━\u001b[0m\u001b[37m\u001b[0m \u001b[1m5s\u001b[0m 3ms/step - accuracy: 0.7114 - loss: 0.5426 - val_accuracy: 0.7192 - val_loss: 0.5359\n",
      "Epoch 15/20\n",
      "\u001b[1m1841/1841\u001b[0m \u001b[32m━━━━━━━━━━━━━━━━━━━━\u001b[0m\u001b[37m\u001b[0m \u001b[1m5s\u001b[0m 3ms/step - accuracy: 0.7129 - loss: 0.5386 - val_accuracy: 0.7205 - val_loss: 0.5349\n",
      "Epoch 16/20\n",
      "\u001b[1m1841/1841\u001b[0m \u001b[32m━━━━━━━━━━━━━━━━━━━━\u001b[0m\u001b[37m\u001b[0m \u001b[1m5s\u001b[0m 3ms/step - accuracy: 0.7168 - loss: 0.5351 - val_accuracy: 0.7181 - val_loss: 0.5362\n",
      "Epoch 17/20\n",
      "\u001b[1m1841/1841\u001b[0m \u001b[32m━━━━━━━━━━━━━━━━━━━━\u001b[0m\u001b[37m\u001b[0m \u001b[1m5s\u001b[0m 3ms/step - accuracy: 0.7144 - loss: 0.5351 - val_accuracy: 0.7238 - val_loss: 0.5334\n",
      "Epoch 18/20\n",
      "\u001b[1m1841/1841\u001b[0m \u001b[32m━━━━━━━━━━━━━━━━━━━━\u001b[0m\u001b[37m\u001b[0m \u001b[1m5s\u001b[0m 3ms/step - accuracy: 0.7166 - loss: 0.5326 - val_accuracy: 0.7226 - val_loss: 0.5331\n",
      "Epoch 19/20\n",
      "\u001b[1m1841/1841\u001b[0m \u001b[32m━━━━━━━━━━━━━━━━━━━━\u001b[0m\u001b[37m\u001b[0m \u001b[1m5s\u001b[0m 3ms/step - accuracy: 0.7209 - loss: 0.5313 - val_accuracy: 0.7171 - val_loss: 0.5360\n",
      "Epoch 20/20\n",
      "\u001b[1m1841/1841\u001b[0m \u001b[32m━━━━━━━━━━━━━━━━━━━━\u001b[0m\u001b[37m\u001b[0m \u001b[1m5s\u001b[0m 3ms/step - accuracy: 0.7192 - loss: 0.5309 - val_accuracy: 0.7204 - val_loss: 0.5335\n"
     ]
    }
   ],
   "source": [
    "history=model.fit(x=xtrain, y=ytrain,validation_data=(xtest,ytest), epochs=20)"
   ]
  },
  {
   "cell_type": "code",
   "execution_count": 204,
   "metadata": {},
   "outputs": [
    {
     "name": "stdout",
     "output_type": "stream",
     "text": [
      "\u001b[1m461/461\u001b[0m \u001b[32m━━━━━━━━━━━━━━━━━━━━\u001b[0m\u001b[37m\u001b[0m \u001b[1m1s\u001b[0m 2ms/step - accuracy: 0.7126 - loss: 0.5395\n"
     ]
    },
    {
     "data": {
      "text/plain": [
       "[0.5335441827774048, 0.7203775644302368]"
      ]
     },
     "execution_count": 204,
     "metadata": {},
     "output_type": "execute_result"
    }
   ],
   "source": [
    "model.evaluate(xtest,ytest)"
   ]
  },
  {
   "cell_type": "code",
   "execution_count": 206,
   "metadata": {},
   "outputs": [
    {
     "data": {
      "image/png": "[encoded data removed]",
      "text/plain": [
       "<Figure size 640x480 with 1 Axes>"
      ]
     },
     "metadata": {},
     "output_type": "display_data"
    }
   ],
   "source": [
    "plt.plot(history.history['accuracy'], label='Train Accuracy')\n",
    "plt.plot(history.history['val_accuracy'], label='Validation Accuracy')\n",
    "plt.xlabel('Epoch')\n",
    "plt.ylabel('Accuracy')\n",
    "plt.legend()\n",
    "plt.show()\n"
   ]
  },
  {
   "cell_type": "code",
   "execution_count": 221,
   "metadata": {},
   "outputs": [
    {
     "name": "stdout",
     "output_type": "stream",
     "text": [
      "\u001b[1m1/1\u001b[0m \u001b[32m━━━━━━━━━━━━━━━━━━━━\u001b[0m\u001b[37m\u001b[0m \u001b[1m0s\u001b[0m 51ms/step\n",
      "Predicted Gender: Woman\n"
     ]
    }
   ],
   "source": [
    "input_name = \"carol\"\n",
    "\n",
    "input_seq = tokenizer.texts_to_sequences([input_name])\n",
    "input_padded = pad_sequences(input_seq, maxlen=20)\n",
    "\n",
    "pred_prob = model.predict(input_padded)\n",
    "\n",
    "if pred_prob >= 0.5:\n",
    "    print(\"Predicted Gender: Woman\")\n",
    "else:\n",
    "    print(\"Predicted Gender: Man\")\n"
   ]
  },
  {
   "cell_type": "code",
   "execution_count": null,
   "metadata": {},
   "outputs": [],
   "source": []
  }
 ],
 "metadata": {
  "kernelspec": {
   "display_name": "ML_NN",
   "language": "python",
   "name": "python3"
  },
  "language_info": {
   "codemirror_mode": {
    "name": "ipython",
    "version": 3
   },
   "file_extension": ".py",
   "mimetype": "text/x-python",
   "name": "python",
   "nbconvert_exporter": "python",
   "pygments_lexer": "ipython3",
   "version": "3.11.5"
  }
 },
 "nbformat": 4,
 "nbformat_minor": 2
}
