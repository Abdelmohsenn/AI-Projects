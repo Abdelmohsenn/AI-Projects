{
 "cells": [
  {
   "cell_type": "markdown",
   "metadata": {},
   "source": [
    "# *Libraries*"
   ]
  },
  {
   "cell_type": "code",
   "execution_count": 40,
   "metadata": {},
   "outputs": [],
   "source": [
    "from typing import TypedDict, Dict, Optional, List\n",
    "from langgraph.graph import StateGraph\n",
    "from IPython.display import display, Image"
   ]
  },
  {
   "cell_type": "code",
   "execution_count": 104,
   "metadata": {},
   "outputs": [],
   "source": [
    "class AgentState(TypedDict):\n",
    "    message: Optional[str]\n",
    "class PricesState(TypedDict):\n",
    "    prices: List[int]\n",
    "\n",
    "def HelloNode(state: AgentState) -> AgentState:\n",
    "    state['message'] = \"Hello\" + state[\"message\"] + \", How is your day going today\"\n",
    "    return state\n",
    "def productPrices (state: PricesState) -> PricesState:\n",
    "    state['prices'] = \"1st Tier => \" + str(state['prices'][0]) + \", 2nd Tier => \" + str(state['prices'][1])\n",
    "    return state"
   ]
  },
  {
   "cell_type": "code",
   "execution_count": 105,
   "metadata": {},
   "outputs": [
    {
     "data": {
      "text/plain": [
       "<langgraph.graph.state.StateGraph at 0x11bded9d0>"
      ]
     },
     "execution_count": 105,
     "metadata": {},
     "output_type": "execute_result"
    }
   ],
   "source": [
    "HelloMessage = \", I'm Nano, Your Personal Wellbeing Assistant\"\n",
    "\n",
    "Node = StateGraph(AgentState)\n",
    "Node.set_entry_point(\"AgentI\")\n",
    "Node.add_node(\"AgentI\", HelloNode)\n",
    "Node.set_finish_point(\"AgentI\")"
   ]
  },
  {
   "cell_type": "code",
   "execution_count": 106,
   "metadata": {},
   "outputs": [
    {
     "data": {
      "text/plain": [
       "<langgraph.graph.state.StateGraph at 0x11c7cb3d0>"
      ]
     },
     "execution_count": 106,
     "metadata": {},
     "output_type": "execute_result"
    }
   ],
   "source": [
    "prices = [5, 10]\n",
    "\n",
    "pricesNode = StateGraph(PricesState)\n",
    "pricesNode.set_entry_point(\"PricesAgent\")\n",
    "pricesNode.add_node(\"PricesAgent\", productPrices)\n",
    "pricesNode.set_finish_point(\"PricesAgent\")"
   ]
  },
  {
   "cell_type": "code",
   "execution_count": 107,
   "metadata": {},
   "outputs": [],
   "source": [
    "GraphApp = Node.compile()\n",
    "PricesGiver = pricesNode.compile()"
   ]
  },
  {
   "cell_type": "code",
   "execution_count": 108,
   "metadata": {},
   "outputs": [
    {
     "data": {
      "image/png": "[encoded data removed]",
      "text/plain": [
       "<IPython.core.display.Image object>"
      ]
     },
     "metadata": {},
     "output_type": "display_data"
    }
   ],
   "source": [
    "display(Image(GraphApp.get_graph().draw_mermaid_png()))"
   ]
  },
  {
   "cell_type": "code",
   "execution_count": 109,
   "metadata": {},
   "outputs": [],
   "source": [
    "AIresponse=GraphApp.invoke({\"message\": HelloMessage})"
   ]
  },
  {
   "cell_type": "code",
   "execution_count": 110,
   "metadata": {},
   "outputs": [
    {
     "data": {
      "text/plain": [
       "\"Hello, I'm Nano, Your Personal Wellbeing Assistant, How is your day going today\""
      ]
     },
     "execution_count": 110,
     "metadata": {},
     "output_type": "execute_result"
    }
   ],
   "source": [
    "AIresponse['message']"
   ]
  },
  {
   "cell_type": "code",
   "execution_count": 111,
   "metadata": {},
   "outputs": [],
   "source": [
    "AIresponse2 = PricesGiver.invoke({\"prices\":prices})"
   ]
  },
  {
   "cell_type": "code",
   "execution_count": 112,
   "metadata": {},
   "outputs": [
    {
     "data": {
      "text/plain": [
       "'1st Tier => 5, 2nd Tier => 10'"
      ]
     },
     "execution_count": 112,
     "metadata": {},
     "output_type": "execute_result"
    }
   ],
   "source": [
    "AIresponse2['prices']"
   ]
  },
  {
   "cell_type": "code",
   "execution_count": null,
   "metadata": {},
   "outputs": [],
   "source": []
  }
 ],
 "metadata": {
  "kernelspec": {
   "display_name": "llmEnv",
   "language": "python",
   "name": "python3"
  },
  "language_info": {
   "codemirror_mode": {
    "name": "ipython",
    "version": 3
   },
   "file_extension": ".py",
   "mimetype": "text/x-python",
   "name": "python",
   "nbconvert_exporter": "python",
   "pygments_lexer": "ipython3",
   "version": "3.11.5"
  }
 },
 "nbformat": 4,
 "nbformat_minor": 2
}
