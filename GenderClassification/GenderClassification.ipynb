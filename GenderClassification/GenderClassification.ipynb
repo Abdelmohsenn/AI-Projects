{
 "cells": [
  {
   "cell_type": "markdown",
   "metadata": {},
   "source": [
    "# *Libraries*"
   ]
  },
  {
   "cell_type": "code",
   "execution_count": 155,
   "metadata": {},
   "outputs": [],
   "source": [
    "import sys\n",
    "import keras\n",
    "import pandas as pd\n",
    "import tensorflow as tf\n",
    "import matplotlib.pyplot as plt\n",
    "from keras.optimizers import Adam, AdamW, SGD\n",
    "from keras.regularizers import Regularizer, l1, l2\n",
    "from tensorflow.keras.layers import TextVectorization, Dense, Conv2D, Flatten, Dropout, Bidirectional, LSTM\n",
    "from tensorflow.keras.models import load_model, save_model, Sequential\n",
    "from sklearn.preprocessing import LabelEncoder, OneHotEncoder\n",
    "from tensorflow.keras.preprocessing.text import Tokenizer\n",
    "from tensorflow.keras.preprocessing.sequence import pad_sequences\n",
    "from sklearn.model_selection import train_test_split\n",
    "import numpy"
   ]
  },
  {
   "cell_type": "code",
   "execution_count": 132,
   "metadata": {},
   "outputs": [],
   "source": [
    "genderCsv = pd.read_csv('Genders.csv', usecols=[0,1])\n",
    "genderCsv = genderCsv.sample(frac=0.5)\n",
    "tokenizer = Tokenizer(char_level=True)"
   ]
  },
  {
   "cell_type": "code",
   "execution_count": 133,
   "metadata": {},
   "outputs": [
    {
     "data": {
      "text/html": [
       "<div>\n",
       "<style scoped>\n",
       "    .dataframe tbody tr th:only-of-type {\n",
       "        vertical-align: middle;\n",
       "    }\n",
       "\n",
       "    .dataframe tbody tr th {\n",
       "        vertical-align: top;\n",
       "    }\n",
       "\n",
       "    .dataframe thead th {\n",
       "        text-align: right;\n",
       "    }\n",
       "</style>\n",
       "<table border=\"1\" class=\"dataframe\">\n",
       "  <thead>\n",
       "    <tr style=\"text-align: right;\">\n",
       "      <th></th>\n",
       "      <th>Name</th>\n",
       "      <th>Gender</th>\n",
       "    </tr>\n",
       "  </thead>\n",
       "  <tbody>\n",
       "    <tr>\n",
       "      <th>58451</th>\n",
       "      <td>Muzzammil</td>\n",
       "      <td>M</td>\n",
       "    </tr>\n",
       "    <tr>\n",
       "      <th>7312</th>\n",
       "      <td>Kalani</td>\n",
       "      <td>M</td>\n",
       "    </tr>\n",
       "    <tr>\n",
       "      <th>71174</th>\n",
       "      <td>Seslie</td>\n",
       "      <td>F</td>\n",
       "    </tr>\n",
       "    <tr>\n",
       "      <th>29606</th>\n",
       "      <td>Forbes</td>\n",
       "      <td>M</td>\n",
       "    </tr>\n",
       "    <tr>\n",
       "      <th>48891</th>\n",
       "      <td>Keonta</td>\n",
       "      <td>F</td>\n",
       "    </tr>\n",
       "    <tr>\n",
       "      <th>...</th>\n",
       "      <td>...</td>\n",
       "      <td>...</td>\n",
       "    </tr>\n",
       "    <tr>\n",
       "      <th>38070</th>\n",
       "      <td>Leaf</td>\n",
       "      <td>M</td>\n",
       "    </tr>\n",
       "    <tr>\n",
       "      <th>120939</th>\n",
       "      <td>Gaybreil</td>\n",
       "      <td>F</td>\n",
       "    </tr>\n",
       "    <tr>\n",
       "      <th>101421</th>\n",
       "      <td>Makkiyah</td>\n",
       "      <td>F</td>\n",
       "    </tr>\n",
       "    <tr>\n",
       "      <th>104010</th>\n",
       "      <td>Tanjanae</td>\n",
       "      <td>F</td>\n",
       "    </tr>\n",
       "    <tr>\n",
       "      <th>24500</th>\n",
       "      <td>Joshau</td>\n",
       "      <td>M</td>\n",
       "    </tr>\n",
       "  </tbody>\n",
       "</table>\n",
       "<p>73634 rows × 2 columns</p>\n",
       "</div>"
      ],
      "text/plain": [
       "             Name Gender\n",
       "58451   Muzzammil      M\n",
       "7312       Kalani      M\n",
       "71174      Seslie      F\n",
       "29606      Forbes      M\n",
       "48891      Keonta      F\n",
       "...           ...    ...\n",
       "38070        Leaf      M\n",
       "120939   Gaybreil      F\n",
       "101421   Makkiyah      F\n",
       "104010   Tanjanae      F\n",
       "24500      Joshau      M\n",
       "\n",
       "[73634 rows x 2 columns]"
      ]
     },
     "execution_count": 133,
     "metadata": {},
     "output_type": "execute_result"
    }
   ],
   "source": [
    "genderCsv"
   ]
  },
  {
   "cell_type": "code",
   "execution_count": 134,
   "metadata": {},
   "outputs": [],
   "source": [
    "names = genderCsv['Name']\n",
    "names = names.astype(str).values\n",
    "classes = genderCsv['Gender']"
   ]
  },
  {
   "cell_type": "code",
   "execution_count": 135,
   "metadata": {},
   "outputs": [],
   "source": [
    "tokenizer.fit_on_texts(names)\n",
    "sequences = tokenizer.texts_to_sequences(names)"
   ]
  },
  {
   "cell_type": "code",
   "execution_count": 136,
   "metadata": {},
   "outputs": [],
   "source": [
    "max_len = 20 \n",
    "namesTokenized = pad_sequences(sequences, maxlen=max_len, padding='post')"
   ]
  },
  {
   "cell_type": "code",
   "execution_count": 137,
   "metadata": {},
   "outputs": [],
   "source": [
    "classesEncoder = LabelEncoder()\n",
    "classEncoded = classesEncoder.fit_transform(classes)"
   ]
  },
  {
   "cell_type": "code",
   "execution_count": 138,
   "metadata": {},
   "outputs": [
    {
     "data": {
      "text/plain": [
       "array([[12, 15, 21, ...,  0,  0,  0],\n",
       "       [14,  1,  6, ...,  0,  0,  0],\n",
       "       [ 7,  2,  7, ...,  0,  0,  0],\n",
       "       ...,\n",
       "       [12,  1, 14, ...,  0,  0,  0],\n",
       "       [10,  1,  3, ...,  0,  0,  0],\n",
       "       [17,  9,  7, ...,  0,  0,  0]], dtype=int32)"
      ]
     },
     "execution_count": 138,
     "metadata": {},
     "output_type": "execute_result"
    }
   ],
   "source": [
    "namesTokenized"
   ]
  },
  {
   "cell_type": "code",
   "execution_count": 139,
   "metadata": {},
   "outputs": [
    {
     "name": "stdout",
     "output_type": "stream",
     "text": [
      "Names after encoding: [[12 15 21 ...  0  0  0]\n",
      " [14  1  6 ...  0  0  0]\n",
      " [ 7  2  7 ...  0  0  0]\n",
      " ...\n",
      " [12  1 14 ...  0  0  0]\n",
      " [10  1  3 ...  0  0  0]\n",
      " [17  9  7 ...  0  0  0]]\n",
      "Classes after encoding: [1 1 0 ... 0 0 1]\n"
     ]
    }
   ],
   "source": [
    "print('Names after encoding:',namesTokenized)\n",
    "print('Classes after encoding:',classEncoded)"
   ]
  },
  {
   "cell_type": "code",
   "execution_count": 140,
   "metadata": {},
   "outputs": [
    {
     "name": "stdout",
     "output_type": "stream",
     "text": [
      "NamesShapae after encoding: (73634, 20)\n",
      "Classes shape after encoding: (73634,)\n"
     ]
    }
   ],
   "source": [
    "print('NamesShapae after encoding:',namesTokenized.shape)\n",
    "print('Classes shape after encoding:',classEncoded.shape)"
   ]
  },
  {
   "cell_type": "code",
   "execution_count": 142,
   "metadata": {},
   "outputs": [],
   "source": [
    "xtrain, xtest, ytrain, ytest = train_test_split(namesTokenized, classEncoded, test_size=0.2, random_state=42, stratify=classEncoded)"
   ]
  },
  {
   "cell_type": "code",
   "execution_count": 143,
   "metadata": {},
   "outputs": [],
   "source": [
    "# xtrain = xtrain.toarray()\n",
    "# xtest = xtest.toarray()"
   ]
  },
  {
   "cell_type": "code",
   "execution_count": 157,
   "metadata": {},
   "outputs": [],
   "source": [
    "model = Sequential([\n",
    "    Flatten(),\n",
    "    Dense(256,activation='relu') ,\n",
    "    Dropout(0.1),\n",
    "    \n",
    "    Dense(128,activation='relu') ,\n",
    "    Dropout(0.2),\n",
    "\n",
    "    Dense(64,activation='relu') ,\n",
    "    Dropout(0.1),\n",
    "\n",
    "    Dense(32,activation='relu') ,\n",
    "    Dense(1, activation='sigmoid')\n",
    "])\n"
   ]
  },
  {
   "cell_type": "code",
   "execution_count": 158,
   "metadata": {},
   "outputs": [],
   "source": [
    "model.compile(optimizer=Adam(),loss='binary_crossentropy',metrics=['accuracy']  )"
   ]
  },
  {
   "cell_type": "code",
   "execution_count": 159,
   "metadata": {},
   "outputs": [
    {
     "name": "stdout",
     "output_type": "stream",
     "text": [
      "Epoch 1/20\n",
      "\u001b[1m1841/1841\u001b[0m \u001b[32m━━━━━━━━━━━━━━━━━━━━\u001b[0m\u001b[37m\u001b[0m \u001b[1m7s\u001b[0m 3ms/step - accuracy: 0.6013 - loss: 0.6812 - val_accuracy: 0.6174 - val_loss: 0.6534\n",
      "Epoch 2/20\n",
      "\u001b[1m1841/1841\u001b[0m \u001b[32m━━━━━━━━━━━━━━━━━━━━\u001b[0m\u001b[37m\u001b[0m \u001b[1m4s\u001b[0m 2ms/step - accuracy: 0.6227 - loss: 0.6515 - val_accuracy: 0.6530 - val_loss: 0.6062\n",
      "Epoch 3/20\n",
      "\u001b[1m1841/1841\u001b[0m \u001b[32m━━━━━━━━━━━━━━━━━━━━\u001b[0m\u001b[37m\u001b[0m \u001b[1m4s\u001b[0m 2ms/step - accuracy: 0.6559 - loss: 0.6088 - val_accuracy: 0.6802 - val_loss: 0.5703\n",
      "Epoch 4/20\n",
      "\u001b[1m1841/1841\u001b[0m \u001b[32m━━━━━━━━━━━━━━━━━━━━\u001b[0m\u001b[37m\u001b[0m \u001b[1m4s\u001b[0m 2ms/step - accuracy: 0.6783 - loss: 0.5778 - val_accuracy: 0.6927 - val_loss: 0.5663\n",
      "Epoch 5/20\n",
      "\u001b[1m1841/1841\u001b[0m \u001b[32m━━━━━━━━━━━━━━━━━━━━\u001b[0m\u001b[37m\u001b[0m \u001b[1m4s\u001b[0m 2ms/step - accuracy: 0.6856 - loss: 0.5675 - val_accuracy: 0.7006 - val_loss: 0.5536\n",
      "Epoch 6/20\n",
      "\u001b[1m1841/1841\u001b[0m \u001b[32m━━━━━━━━━━━━━━━━━━━━\u001b[0m\u001b[37m\u001b[0m \u001b[1m4s\u001b[0m 2ms/step - accuracy: 0.6909 - loss: 0.5631 - val_accuracy: 0.6965 - val_loss: 0.5549\n",
      "Epoch 7/20\n",
      "\u001b[1m1841/1841\u001b[0m \u001b[32m━━━━━━━━━━━━━━━━━━━━\u001b[0m\u001b[37m\u001b[0m \u001b[1m4s\u001b[0m 2ms/step - accuracy: 0.6933 - loss: 0.5612 - val_accuracy: 0.7071 - val_loss: 0.5469\n",
      "Epoch 8/20\n",
      "\u001b[1m1841/1841\u001b[0m \u001b[32m━━━━━━━━━━━━━━━━━━━━\u001b[0m\u001b[37m\u001b[0m \u001b[1m4s\u001b[0m 2ms/step - accuracy: 0.6983 - loss: 0.5546 - val_accuracy: 0.7109 - val_loss: 0.5455\n",
      "Epoch 9/20\n",
      "\u001b[1m1841/1841\u001b[0m \u001b[32m━━━━━━━━━━━━━━━━━━━━\u001b[0m\u001b[37m\u001b[0m \u001b[1m4s\u001b[0m 2ms/step - accuracy: 0.6996 - loss: 0.5505 - val_accuracy: 0.7145 - val_loss: 0.5430\n",
      "Epoch 10/20\n",
      "\u001b[1m1841/1841\u001b[0m \u001b[32m━━━━━━━━━━━━━━━━━━━━\u001b[0m\u001b[37m\u001b[0m \u001b[1m4s\u001b[0m 2ms/step - accuracy: 0.7074 - loss: 0.5459 - val_accuracy: 0.7120 - val_loss: 0.5405\n",
      "Epoch 11/20\n",
      "\u001b[1m1841/1841\u001b[0m \u001b[32m━━━━━━━━━━━━━━━━━━━━\u001b[0m\u001b[37m\u001b[0m \u001b[1m4s\u001b[0m 2ms/step - accuracy: 0.7044 - loss: 0.5464 - val_accuracy: 0.7160 - val_loss: 0.5408\n",
      "Epoch 12/20\n",
      "\u001b[1m1841/1841\u001b[0m \u001b[32m━━━━━━━━━━━━━━━━━━━━\u001b[0m\u001b[37m\u001b[0m \u001b[1m4s\u001b[0m 2ms/step - accuracy: 0.7095 - loss: 0.5433 - val_accuracy: 0.7230 - val_loss: 0.5344\n",
      "Epoch 13/20\n",
      "\u001b[1m1841/1841\u001b[0m \u001b[32m━━━━━━━━━━━━━━━━━━━━\u001b[0m\u001b[37m\u001b[0m \u001b[1m4s\u001b[0m 2ms/step - accuracy: 0.7090 - loss: 0.5424 - val_accuracy: 0.7221 - val_loss: 0.5352\n",
      "Epoch 14/20\n",
      "\u001b[1m1841/1841\u001b[0m \u001b[32m━━━━━━━━━━━━━━━━━━━━\u001b[0m\u001b[37m\u001b[0m \u001b[1m4s\u001b[0m 2ms/step - accuracy: 0.7110 - loss: 0.5414 - val_accuracy: 0.7222 - val_loss: 0.5336\n",
      "Epoch 15/20\n",
      "\u001b[1m1841/1841\u001b[0m \u001b[32m━━━━━━━━━━━━━━━━━━━━\u001b[0m\u001b[37m\u001b[0m \u001b[1m4s\u001b[0m 2ms/step - accuracy: 0.7180 - loss: 0.5359 - val_accuracy: 0.7224 - val_loss: 0.5334\n",
      "Epoch 16/20\n",
      "\u001b[1m1841/1841\u001b[0m \u001b[32m━━━━━━━━━━━━━━━━━━━━\u001b[0m\u001b[37m\u001b[0m \u001b[1m4s\u001b[0m 2ms/step - accuracy: 0.7167 - loss: 0.5367 - val_accuracy: 0.7283 - val_loss: 0.5316\n",
      "Epoch 17/20\n",
      "\u001b[1m1841/1841\u001b[0m \u001b[32m━━━━━━━━━━━━━━━━━━━━\u001b[0m\u001b[37m\u001b[0m \u001b[1m4s\u001b[0m 2ms/step - accuracy: 0.7180 - loss: 0.5311 - val_accuracy: 0.7242 - val_loss: 0.5358\n",
      "Epoch 18/20\n",
      "\u001b[1m1841/1841\u001b[0m \u001b[32m━━━━━━━━━━━━━━━━━━━━\u001b[0m\u001b[37m\u001b[0m \u001b[1m5s\u001b[0m 3ms/step - accuracy: 0.7217 - loss: 0.5301 - val_accuracy: 0.7243 - val_loss: 0.5357\n",
      "Epoch 19/20\n",
      "\u001b[1m1841/1841\u001b[0m \u001b[32m━━━━━━━━━━━━━━━━━━━━\u001b[0m\u001b[37m\u001b[0m \u001b[1m5s\u001b[0m 3ms/step - accuracy: 0.7210 - loss: 0.5310 - val_accuracy: 0.7259 - val_loss: 0.5312\n",
      "Epoch 20/20\n",
      "\u001b[1m1841/1841\u001b[0m \u001b[32m━━━━━━━━━━━━━━━━━━━━\u001b[0m\u001b[37m\u001b[0m \u001b[1m5s\u001b[0m 3ms/step - accuracy: 0.7194 - loss: 0.5312 - val_accuracy: 0.7262 - val_loss: 0.5287\n"
     ]
    }
   ],
   "source": [
    "history=model.fit(x=xtrain, y=ytrain,validation_data=(xtest,ytest), epochs=20)"
   ]
  },
  {
   "cell_type": "code",
   "execution_count": 160,
   "metadata": {},
   "outputs": [
    {
     "name": "stdout",
     "output_type": "stream",
     "text": [
      "\u001b[1m461/461\u001b[0m \u001b[32m━━━━━━━━━━━━━━━━━━━━\u001b[0m\u001b[37m\u001b[0m \u001b[1m1s\u001b[0m 1ms/step - accuracy: 0.7218 - loss: 0.5348\n"
     ]
    },
    {
     "data": {
      "text/plain": [
       "[0.5287065505981445, 0.7262171506881714]"
      ]
     },
     "execution_count": 160,
     "metadata": {},
     "output_type": "execute_result"
    }
   ],
   "source": [
    "model.evaluate(xtest,ytest)"
   ]
  },
  {
   "cell_type": "code",
   "execution_count": 161,
   "metadata": {},
   "outputs": [
    {
     "data": {
      "image/png": "[encoded data removed]",
      "text/plain": [
       "<Figure size 640x480 with 1 Axes>"
      ]
     },
     "metadata": {},
     "output_type": "display_data"
    }
   ],
   "source": [
    "plt.plot(history.history['accuracy'], label='Train Accuracy')\n",
    "plt.plot(history.history['val_accuracy'], label='Validation Accuracy')\n",
    "plt.xlabel('Epoch')\n",
    "plt.ylabel('Accuracy')\n",
    "plt.legend()\n",
    "plt.show()\n"
   ]
  },
  {
   "cell_type": "code",
   "execution_count": null,
   "metadata": {},
   "outputs": [],
   "source": []
  }
 ],
 "metadata": {
  "kernelspec": {
   "display_name": "ML_NN",
   "language": "python",
   "name": "python3"
  },
  "language_info": {
   "codemirror_mode": {
    "name": "ipython",
    "version": 3
   },
   "file_extension": ".py",
   "mimetype": "text/x-python",
   "name": "python",
   "nbconvert_exporter": "python",
   "pygments_lexer": "ipython3",
   "version": "3.11.5"
  }
 },
 "nbformat": 4,
 "nbformat_minor": 2
}
