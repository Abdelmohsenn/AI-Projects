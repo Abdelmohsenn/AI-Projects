{
 "cells": [
  {
   "cell_type": "markdown",
   "metadata": {},
   "source": [
    "# *Libraries*"
   ]
  },
  {
   "cell_type": "code",
   "execution_count": 87,
   "metadata": {},
   "outputs": [],
   "source": [
    "import sys\n",
    "import keras\n",
    "import pandas as pd\n",
    "import tensorflow as tf\n",
    "import matplotlib.pyplot as plt\n",
    "from keras.optimizers import Adam, AdamW, SGD\n",
    "from keras.regularizers import Regularizer, l1, l2\n",
    "from tensorflow.keras.layers import TextVectorization, Dense, Conv2D, Flatten, Dropout, Bidirectional, LSTM, Embedding\n",
    "from tensorflow.keras.models import load_model, save_model, Sequential\n",
    "from sklearn.preprocessing import LabelEncoder, OneHotEncoder\n",
    "from tensorflow.keras.preprocessing.text import Tokenizer\n",
    "from tensorflow.keras.preprocessing.sequence import pad_sequences\n",
    "from tensorflow.keras.callbacks import EarlyStopping\n",
    "from sklearn.model_selection import train_test_split\n",
    "import numpy"
   ]
  },
  {
   "cell_type": "code",
   "execution_count": 2,
   "metadata": {},
   "outputs": [],
   "source": [
    "genderCsv = pd.read_csv('Genders.csv', usecols=[0,1])\n",
    "genderCsv = genderCsv.sample(frac=0.5)\n",
    "tokenizer = Tokenizer(char_level=True)"
   ]
  },
  {
   "cell_type": "code",
   "execution_count": 3,
   "metadata": {},
   "outputs": [
    {
     "data": {
      "text/html": [
       "<div>\n",
       "<style scoped>\n",
       "    .dataframe tbody tr th:only-of-type {\n",
       "        vertical-align: middle;\n",
       "    }\n",
       "\n",
       "    .dataframe tbody tr th {\n",
       "        vertical-align: top;\n",
       "    }\n",
       "\n",
       "    .dataframe thead th {\n",
       "        text-align: right;\n",
       "    }\n",
       "</style>\n",
       "<table border=\"1\" class=\"dataframe\">\n",
       "  <thead>\n",
       "    <tr style=\"text-align: right;\">\n",
       "      <th></th>\n",
       "      <th>Name</th>\n",
       "      <th>Gender</th>\n",
       "    </tr>\n",
       "  </thead>\n",
       "  <tbody>\n",
       "    <tr>\n",
       "      <th>59231</th>\n",
       "      <td>Ramisha</td>\n",
       "      <td>F</td>\n",
       "    </tr>\n",
       "    <tr>\n",
       "      <th>86711</th>\n",
       "      <td>Oakie</td>\n",
       "      <td>M</td>\n",
       "    </tr>\n",
       "    <tr>\n",
       "      <th>33477</th>\n",
       "      <td>Bren</td>\n",
       "      <td>F</td>\n",
       "    </tr>\n",
       "    <tr>\n",
       "      <th>36386</th>\n",
       "      <td>Lailany</td>\n",
       "      <td>F</td>\n",
       "    </tr>\n",
       "    <tr>\n",
       "      <th>82250</th>\n",
       "      <td>Tehilah</td>\n",
       "      <td>F</td>\n",
       "    </tr>\n",
       "    <tr>\n",
       "      <th>...</th>\n",
       "      <td>...</td>\n",
       "      <td>...</td>\n",
       "    </tr>\n",
       "    <tr>\n",
       "      <th>74699</th>\n",
       "      <td>Quadaisha</td>\n",
       "      <td>F</td>\n",
       "    </tr>\n",
       "    <tr>\n",
       "      <th>44317</th>\n",
       "      <td>Marky</td>\n",
       "      <td>M</td>\n",
       "    </tr>\n",
       "    <tr>\n",
       "      <th>95884</th>\n",
       "      <td>Shloke</td>\n",
       "      <td>M</td>\n",
       "    </tr>\n",
       "    <tr>\n",
       "      <th>86895</th>\n",
       "      <td>Shauntel</td>\n",
       "      <td>M</td>\n",
       "    </tr>\n",
       "    <tr>\n",
       "      <th>68755</th>\n",
       "      <td>Jandell</td>\n",
       "      <td>M</td>\n",
       "    </tr>\n",
       "  </tbody>\n",
       "</table>\n",
       "<p>73634 rows × 2 columns</p>\n",
       "</div>"
      ],
      "text/plain": [
       "            Name Gender\n",
       "59231    Ramisha      F\n",
       "86711      Oakie      M\n",
       "33477       Bren      F\n",
       "36386    Lailany      F\n",
       "82250    Tehilah      F\n",
       "...          ...    ...\n",
       "74699  Quadaisha      F\n",
       "44317      Marky      M\n",
       "95884     Shloke      M\n",
       "86895   Shauntel      M\n",
       "68755    Jandell      M\n",
       "\n",
       "[73634 rows x 2 columns]"
      ]
     },
     "execution_count": 3,
     "metadata": {},
     "output_type": "execute_result"
    }
   ],
   "source": [
    "genderCsv"
   ]
  },
  {
   "cell_type": "code",
   "execution_count": 4,
   "metadata": {},
   "outputs": [],
   "source": [
    "names = genderCsv['Name']\n",
    "names = names.astype(str).values\n",
    "classes = genderCsv['Gender']"
   ]
  },
  {
   "cell_type": "code",
   "execution_count": 21,
   "metadata": {},
   "outputs": [],
   "source": [
    "tokenizer.fit_on_texts(names)\n",
    "sequences = tokenizer.texts_to_sequences(names)\n",
    "vocab_size = len(tokenizer.word_index)+1"
   ]
  },
  {
   "cell_type": "code",
   "execution_count": 6,
   "metadata": {},
   "outputs": [],
   "source": [
    "max_len = 20 \n",
    "namesTokenized = pad_sequences(sequences, maxlen=max_len, padding='post')"
   ]
  },
  {
   "cell_type": "code",
   "execution_count": 7,
   "metadata": {},
   "outputs": [],
   "source": [
    "classesEncoder = LabelEncoder()\n",
    "classEncoded = classesEncoder.fit_transform(classes)"
   ]
  },
  {
   "cell_type": "code",
   "execution_count": 8,
   "metadata": {},
   "outputs": [
    {
     "data": {
      "text/plain": [
       "array([[ 5,  1, 12, ...,  0,  0,  0],\n",
       "       [ 9,  1, 14, ...,  0,  0,  0],\n",
       "       [18,  5,  2, ...,  0,  0,  0],\n",
       "       ...,\n",
       "       [ 7,  8,  6, ...,  0,  0,  0],\n",
       "       [ 7,  8,  1, ...,  0,  0,  0],\n",
       "       [17,  1,  3, ...,  0,  0,  0]], dtype=int32)"
      ]
     },
     "execution_count": 8,
     "metadata": {},
     "output_type": "execute_result"
    }
   ],
   "source": [
    "namesTokenized"
   ]
  },
  {
   "cell_type": "code",
   "execution_count": 9,
   "metadata": {},
   "outputs": [
    {
     "name": "stdout",
     "output_type": "stream",
     "text": [
      "Names after encoding: [[ 5  1 12 ...  0  0  0]\n",
      " [ 9  1 14 ...  0  0  0]\n",
      " [18  5  2 ...  0  0  0]\n",
      " ...\n",
      " [ 7  8  6 ...  0  0  0]\n",
      " [ 7  8  1 ...  0  0  0]\n",
      " [17  1  3 ...  0  0  0]]\n",
      "Classes after encoding: [0 1 0 ... 1 1 1]\n"
     ]
    }
   ],
   "source": [
    "print('Names after encoding:',namesTokenized)\n",
    "print('Classes after encoding:',classEncoded)"
   ]
  },
  {
   "cell_type": "code",
   "execution_count": 10,
   "metadata": {},
   "outputs": [
    {
     "name": "stdout",
     "output_type": "stream",
     "text": [
      "NamesShapae after encoding: (73634, 20)\n",
      "Classes shape after encoding: (73634,)\n"
     ]
    }
   ],
   "source": [
    "print('NamesShapae after encoding:',namesTokenized.shape)\n",
    "print('Classes shape after encoding:',classEncoded.shape)"
   ]
  },
  {
   "cell_type": "code",
   "execution_count": 11,
   "metadata": {},
   "outputs": [],
   "source": [
    "xtrain, xtest, ytrain, ytest = train_test_split(namesTokenized, classEncoded, test_size=0.2, random_state=42, stratify=classEncoded)"
   ]
  },
  {
   "cell_type": "code",
   "execution_count": null,
   "metadata": {},
   "outputs": [
    {
     "data": {
      "text/plain": [
       "41"
      ]
     },
     "execution_count": 22,
     "metadata": {},
     "output_type": "execute_result"
    }
   ],
   "source": [
    "# xtrain = xtrain.toarray()\n",
    "# xtest = xtest.toarray()"
   ]
  },
  {
   "cell_type": "code",
   "execution_count": 92,
   "metadata": {},
   "outputs": [],
   "source": [
    "model = Sequential([\n",
    "\n",
    "    Embedding(input_dim=vocab_size, output_dim=48),\n",
    "\n",
    "    Bidirectional(LSTM(128)),\n",
    "\n",
    "    Dense(256,activation='relu') ,\n",
    "    Dropout(0.1),\n",
    "    \n",
    "    Dense(128,activation='relu') ,\n",
    "    Dropout(0.1),\n",
    "\n",
    "    Dense(64,activation='relu') ,\n",
    "    Dropout(0.1),\n",
    "\n",
    "    Dense(32,activation='relu') ,\n",
    "\n",
    "    Dense(1, activation='sigmoid')\n",
    "])\n"
   ]
  },
  {
   "cell_type": "code",
   "execution_count": null,
   "metadata": {},
   "outputs": [],
   "source": [
    "model.compile(optimizer=Adam(),loss='binary_crossentropy',metrics=['accuracy'])\n",
    "earlyStopping = EarlyStopping(monitor='val_loss', patience=5, restore_best_weights=True, verbose=1)"
   ]
  },
  {
   "cell_type": "code",
   "execution_count": 95,
   "metadata": {},
   "outputs": [
    {
     "name": "stdout",
     "output_type": "stream",
     "text": [
      "Epoch 1/10\n",
      "\u001b[1m1841/1841\u001b[0m \u001b[32m━━━━━━━━━━━━━━━━━━━━\u001b[0m\u001b[37m\u001b[0m \u001b[1m37s\u001b[0m 19ms/step - accuracy: 0.6926 - loss: 0.5769 - val_accuracy: 0.7812 - val_loss: 0.4753\n",
      "Epoch 2/10\n",
      "\u001b[1m1841/1841\u001b[0m \u001b[32m━━━━━━━━━━━━━━━━━━━━\u001b[0m\u001b[37m\u001b[0m \u001b[1m34s\u001b[0m 19ms/step - accuracy: 0.7791 - loss: 0.4754 - val_accuracy: 0.7843 - val_loss: 0.4784\n",
      "Epoch 3/10\n",
      "\u001b[1m1841/1841\u001b[0m \u001b[32m━━━━━━━━━━━━━━━━━━━━\u001b[0m\u001b[37m\u001b[0m \u001b[1m34s\u001b[0m 19ms/step - accuracy: 0.7806 - loss: 0.4698 - val_accuracy: 0.7880 - val_loss: 0.4581\n",
      "Epoch 4/10\n",
      "\u001b[1m1841/1841\u001b[0m \u001b[32m━━━━━━━━━━━━━━━━━━━━\u001b[0m\u001b[37m\u001b[0m \u001b[1m37s\u001b[0m 20ms/step - accuracy: 0.7894 - loss: 0.4561 - val_accuracy: 0.7792 - val_loss: 0.4597\n",
      "Epoch 5/10\n",
      "\u001b[1m1841/1841\u001b[0m \u001b[32m━━━━━━━━━━━━━━━━━━━━\u001b[0m\u001b[37m\u001b[0m \u001b[1m35s\u001b[0m 19ms/step - accuracy: 0.7932 - loss: 0.4500 - val_accuracy: 0.7898 - val_loss: 0.4487\n",
      "Epoch 6/10\n",
      "\u001b[1m1841/1841\u001b[0m \u001b[32m━━━━━━━━━━━━━━━━━━━━\u001b[0m\u001b[37m\u001b[0m \u001b[1m35s\u001b[0m 19ms/step - accuracy: 0.8017 - loss: 0.4298 - val_accuracy: 0.7974 - val_loss: 0.4409\n",
      "Epoch 7/10\n",
      "\u001b[1m1841/1841\u001b[0m \u001b[32m━━━━━━━━━━━━━━━━━━━━\u001b[0m\u001b[37m\u001b[0m \u001b[1m35s\u001b[0m 19ms/step - accuracy: 0.8100 - loss: 0.4226 - val_accuracy: 0.8006 - val_loss: 0.4366\n",
      "Epoch 8/10\n",
      "\u001b[1m1841/1841\u001b[0m \u001b[32m━━━━━━━━━━━━━━━━━━━━\u001b[0m\u001b[37m\u001b[0m \u001b[1m39s\u001b[0m 21ms/step - accuracy: 0.8122 - loss: 0.4112 - val_accuracy: 0.8017 - val_loss: 0.4318\n",
      "Epoch 9/10\n",
      "\u001b[1m1841/1841\u001b[0m \u001b[32m━━━━━━━━━━━━━━━━━━━━\u001b[0m\u001b[37m\u001b[0m \u001b[1m36s\u001b[0m 20ms/step - accuracy: 0.8195 - loss: 0.3956 - val_accuracy: 0.8070 - val_loss: 0.4365\n",
      "Epoch 10/10\n",
      "\u001b[1m1841/1841\u001b[0m \u001b[32m━━━━━━━━━━━━━━━━━━━━\u001b[0m\u001b[37m\u001b[0m \u001b[1m36s\u001b[0m 20ms/step - accuracy: 0.8293 - loss: 0.3801 - val_accuracy: 0.8044 - val_loss: 0.4315\n",
      "Restoring model weights from the end of the best epoch: 10.\n"
     ]
    }
   ],
   "source": [
    "history=model.fit(x=xtrain, y=ytrain,validation_data=(xtest,ytest), callbacks=[earlyStopping], epochs=10)"
   ]
  },
  {
   "cell_type": "code",
   "execution_count": 96,
   "metadata": {},
   "outputs": [
    {
     "name": "stdout",
     "output_type": "stream",
     "text": [
      "\u001b[1m461/461\u001b[0m \u001b[32m━━━━━━━━━━━━━━━━━━━━\u001b[0m\u001b[37m\u001b[0m \u001b[1m3s\u001b[0m 7ms/step - accuracy: 0.8028 - loss: 0.4314\n"
     ]
    },
    {
     "data": {
      "text/plain": [
       "[0.431546688079834, 0.8044407963752747]"
      ]
     },
     "execution_count": 96,
     "metadata": {},
     "output_type": "execute_result"
    }
   ],
   "source": [
    "model.evaluate(xtest,ytest)"
   ]
  },
  {
   "cell_type": "code",
   "execution_count": 97,
   "metadata": {},
   "outputs": [
    {
     "data": {
      "image/png": "[encoded data removed]",
      "text/plain": [
       "<Figure size 640x480 with 1 Axes>"
      ]
     },
     "metadata": {},
     "output_type": "display_data"
    }
   ],
   "source": [
    "plt.plot(history.history['accuracy'], label='Train Accuracy')\n",
    "plt.plot(history.history['val_accuracy'], label='Validation Accuracy')\n",
    "plt.xlabel('Epoch')\n",
    "plt.ylabel('Accuracy')\n",
    "plt.legend()\n",
    "plt.show()\n"
   ]
  },
  {
   "cell_type": "code",
   "execution_count": 109,
   "metadata": {},
   "outputs": [
    {
     "name": "stdout",
     "output_type": "stream",
     "text": [
      "\u001b[1m1/1\u001b[0m \u001b[32m━━━━━━━━━━━━━━━━━━━━\u001b[0m\u001b[37m\u001b[0m \u001b[1m0s\u001b[0m 51ms/step\n",
      "Name: menna, Predicted Probability: 0.7135, Predicted Gender: Woman\n",
      "\u001b[1m1/1\u001b[0m \u001b[32m━━━━━━━━━━━━━━━━━━━━\u001b[0m\u001b[37m\u001b[0m \u001b[1m0s\u001b[0m 50ms/step\n",
      "Name: ahmed, Predicted Probability: 0.4614, Predicted Gender: Man\n",
      "\u001b[1m1/1\u001b[0m \u001b[32m━━━━━━━━━━━━━━━━━━━━\u001b[0m\u001b[37m\u001b[0m \u001b[1m0s\u001b[0m 48ms/step\n",
      "Name: laila, Predicted Probability: 0.8438, Predicted Gender: Woman\n",
      "\u001b[1m1/1\u001b[0m \u001b[32m━━━━━━━━━━━━━━━━━━━━\u001b[0m\u001b[37m\u001b[0m \u001b[1m0s\u001b[0m 48ms/step\n",
      "Name: mohamed, Predicted Probability: 0.3056, Predicted Gender: Man\n",
      "\u001b[1m1/1\u001b[0m \u001b[32m━━━━━━━━━━━━━━━━━━━━\u001b[0m\u001b[37m\u001b[0m \u001b[1m0s\u001b[0m 49ms/step\n",
      "Name: sara, Predicted Probability: 0.8203, Predicted Gender: Woman\n",
      "\u001b[1m1/1\u001b[0m \u001b[32m━━━━━━━━━━━━━━━━━━━━\u001b[0m\u001b[37m\u001b[0m \u001b[1m0s\u001b[0m 54ms/step\n",
      "Name: ramy, Predicted Probability: 0.0988, Predicted Gender: Man\n",
      "\u001b[1m1/1\u001b[0m \u001b[32m━━━━━━━━━━━━━━━━━━━━\u001b[0m\u001b[37m\u001b[0m \u001b[1m0s\u001b[0m 48ms/step\n",
      "Name: fatma, Predicted Probability: 0.5362, Predicted Gender: Woman\n",
      "\u001b[1m1/1\u001b[0m \u001b[32m━━━━━━━━━━━━━━━━━━━━\u001b[0m\u001b[37m\u001b[0m \u001b[1m0s\u001b[0m 48ms/step\n",
      "Name: youssef, Predicted Probability: 0.2968, Predicted Gender: Man\n"
     ]
    }
   ],
   "source": [
    "names = [\"menna\", \"ahmed\", \"laila\", \"mohamed\", \"sara\", \"ramy\", \"fatma\", \"youssef\"]\n",
    "\n",
    "for input_name in names:\n",
    "    input_seq = tokenizer.texts_to_sequences([input_name])\n",
    "    input_padded = pad_sequences(input_seq, maxlen=20)\n",
    "    \n",
    "    pred_prob = model.predict(input_padded)[0][0]\n",
    "    \n",
    "    gender = \"Woman\" if pred_prob >= 0.5 else \"Man\"\n",
    "    print(f\"Name: {input_name}, Predicted Probability: {pred_prob:.4f}, Predicted Gender: {gender}\")\n"
   ]
  },
  {
   "cell_type": "code",
   "execution_count": null,
   "metadata": {},
   "outputs": [],
   "source": []
  }
 ],
 "metadata": {
  "kernelspec": {
   "display_name": "ML_NN",
   "language": "python",
   "name": "python3"
  },
  "language_info": {
   "codemirror_mode": {
    "name": "ipython",
    "version": 3
   },
   "file_extension": ".py",
   "mimetype": "text/x-python",
   "name": "python",
   "nbconvert_exporter": "python",
   "pygments_lexer": "ipython3",
   "version": "3.11.5"
  }
 },
 "nbformat": 4,
 "nbformat_minor": 2
}
